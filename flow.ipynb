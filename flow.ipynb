{
 "cells": [
  {
   "cell_type": "code",
   "execution_count": 1,
   "metadata": {},
   "outputs": [],
   "source": [
    "from src.row import Row"
   ]
  },
  {
   "cell_type": "code",
   "execution_count": 2,
   "metadata": {},
   "outputs": [
    {
     "data": {
      "text/html": [
       "<svg width=\"700\" heigth=\"120\" style=\"border: 1px solid black; height: 120; width: 700;\"><circle cx=\"100.0\" cy=\"60.0\" r=\"40\" fill=\"none\" stroke-width=\"2\" stroke=\"black\"></circle><text x=\"100.0\" y=\"60.0\" text-anchor=\"middle\" alignment-baseline=\"central\">0</text><circle cx=\"200.0\" cy=\"60.0\" r=\"40\" fill=\"none\" stroke-width=\"2\" stroke=\"black\"></circle><text x=\"200.0\" y=\"60.0\" text-anchor=\"middle\" alignment-baseline=\"central\">1</text><circle cx=\"300.0\" cy=\"60.0\" r=\"40\" fill=\"none\" stroke-width=\"2\" stroke=\"black\"></circle><text x=\"300.0\" y=\"60.0\" text-anchor=\"middle\" alignment-baseline=\"central\">2</text><circle cx=\"400.0\" cy=\"60.0\" r=\"40\" fill=\"none\" stroke-width=\"2\" stroke=\"black\"></circle><text x=\"400.0\" y=\"60.0\" text-anchor=\"middle\" alignment-baseline=\"central\">3</text><circle cx=\"500.0\" cy=\"60.0\" r=\"40\" fill=\"none\" stroke-width=\"2\" stroke=\"black\"></circle><text x=\"500.0\" y=\"60.0\" text-anchor=\"middle\" alignment-baseline=\"central\">4</text><circle cx=\"600.0\" cy=\"60.0\" r=\"40\" fill=\"none\" stroke-width=\"2\" stroke=\"black\"></circle><text x=\"600.0\" y=\"60.0\" text-anchor=\"middle\" alignment-baseline=\"central\">5</text></svg>"
      ],
      "text/plain": [
       "<src.vis.Element at 0x7f1a183c0da0>"
      ]
     },
     "metadata": {},
     "output_type": "display_data"
    }
   ],
   "source": [
    "Row.create(\n",
    "    width=700,\n",
    "    node_radius=40,\n",
    "    node_margin=20,\n",
    "    flow='normal'\n",
    ")"
   ]
  },
  {
   "cell_type": "code",
   "execution_count": 3,
   "metadata": {},
   "outputs": [
    {
     "data": {
      "text/html": [
       "<svg width=\"700\" heigth=\"120\" style=\"border: 1px solid black; height: 120; width: 700;\"><circle cx=\"100.0\" cy=\"60.0\" r=\"40\" fill=\"none\" stroke-width=\"2\" stroke=\"black\"></circle><text x=\"600.0\" y=\"60.0\" text-anchor=\"middle\" alignment-baseline=\"central\">0</text><circle cx=\"200.0\" cy=\"60.0\" r=\"40\" fill=\"none\" stroke-width=\"2\" stroke=\"black\"></circle><text x=\"500.0\" y=\"60.0\" text-anchor=\"middle\" alignment-baseline=\"central\">1</text><circle cx=\"300.0\" cy=\"60.0\" r=\"40\" fill=\"none\" stroke-width=\"2\" stroke=\"black\"></circle><text x=\"400.0\" y=\"60.0\" text-anchor=\"middle\" alignment-baseline=\"central\">2</text><circle cx=\"400.0\" cy=\"60.0\" r=\"40\" fill=\"none\" stroke-width=\"2\" stroke=\"black\"></circle><text x=\"300.0\" y=\"60.0\" text-anchor=\"middle\" alignment-baseline=\"central\">3</text><circle cx=\"500.0\" cy=\"60.0\" r=\"40\" fill=\"none\" stroke-width=\"2\" stroke=\"black\"></circle><text x=\"200.0\" y=\"60.0\" text-anchor=\"middle\" alignment-baseline=\"central\">4</text><circle cx=\"600.0\" cy=\"60.0\" r=\"40\" fill=\"none\" stroke-width=\"2\" stroke=\"black\"></circle><text x=\"100.0\" y=\"60.0\" text-anchor=\"middle\" alignment-baseline=\"central\">5</text></svg>"
      ],
      "text/plain": [
       "<src.vis.Element at 0x7f1a18331240>"
      ]
     },
     "metadata": {},
     "output_type": "display_data"
    }
   ],
   "source": [
    "Row.create(\n",
    "    width=700,\n",
    "    node_radius=40,\n",
    "    node_margin=20,\n",
    "    flow='reversed'\n",
    ")"
   ]
  },
  {
   "cell_type": "code",
   "execution_count": 4,
   "metadata": {},
   "outputs": [
    {
     "data": {
      "text/html": [
       "<svg width=\"600\" heigth=\"120\" style=\"border: 1px solid black; height: 120; width: 600;\"><circle cx=\"60.0\" cy=\"60.0\" r=\"20\" fill=\"none\" stroke-width=\"2\" stroke=\"black\"></circle><text x=\"300.0\" y=\"60.0\" text-anchor=\"middle\" alignment-baseline=\"central\">0</text><circle cx=\"140.0\" cy=\"60.0\" r=\"20\" fill=\"none\" stroke-width=\"2\" stroke=\"black\"></circle><text x=\"380.0\" y=\"60.0\" text-anchor=\"middle\" alignment-baseline=\"central\">1</text><circle cx=\"220.0\" cy=\"60.0\" r=\"20\" fill=\"none\" stroke-width=\"2\" stroke=\"black\"></circle><text x=\"220.0\" y=\"60.0\" text-anchor=\"middle\" alignment-baseline=\"central\">2</text><circle cx=\"300.0\" cy=\"60.0\" r=\"20\" fill=\"none\" stroke-width=\"2\" stroke=\"black\"></circle><text x=\"460.0\" y=\"60.0\" text-anchor=\"middle\" alignment-baseline=\"central\">3</text><circle cx=\"380.0\" cy=\"60.0\" r=\"20\" fill=\"none\" stroke-width=\"2\" stroke=\"black\"></circle><text x=\"140.0\" y=\"60.0\" text-anchor=\"middle\" alignment-baseline=\"central\">4</text><circle cx=\"460.0\" cy=\"60.0\" r=\"20\" fill=\"none\" stroke-width=\"2\" stroke=\"black\"></circle><text x=\"540.0\" y=\"60.0\" text-anchor=\"middle\" alignment-baseline=\"central\">5</text><circle cx=\"540.0\" cy=\"60.0\" r=\"20\" fill=\"none\" stroke-width=\"2\" stroke=\"black\"></circle><text x=\"60.0\" y=\"60.0\" text-anchor=\"middle\" alignment-baseline=\"central\">6</text></svg>"
      ],
      "text/plain": [
       "<src.vis.Element at 0x7f1a183319b0>"
      ]
     },
     "metadata": {},
     "output_type": "display_data"
    }
   ],
   "source": [
    "Row.create(\n",
    "    width=600,\n",
    "    node_radius=20,\n",
    "    node_margin=40,\n",
    "    flow='center'\n",
    ")\n"
   ]
  },
  {
   "cell_type": "code",
   "execution_count": 5,
   "metadata": {},
   "outputs": [
    {
     "data": {
      "text/html": [
       "<svg width=\"600\" heigth=\"140\" style=\"border: 1px solid black; height: 140; width: 600;\"><circle cx=\"100.0\" cy=\"70.0\" r=\"30\" fill=\"none\" stroke-width=\"2\" stroke=\"black\"></circle><text x=\"300.0\" y=\"70.0\" text-anchor=\"middle\" alignment-baseline=\"central\">0</text><circle cx=\"200.0\" cy=\"70.0\" r=\"30\" fill=\"none\" stroke-width=\"2\" stroke=\"black\"></circle><text x=\"400.0\" y=\"70.0\" text-anchor=\"middle\" alignment-baseline=\"central\">1</text><circle cx=\"300.0\" cy=\"70.0\" r=\"30\" fill=\"none\" stroke-width=\"2\" stroke=\"black\"></circle><text x=\"200.0\" y=\"70.0\" text-anchor=\"middle\" alignment-baseline=\"central\">2</text><circle cx=\"400.0\" cy=\"70.0\" r=\"30\" fill=\"none\" stroke-width=\"2\" stroke=\"black\"></circle><text x=\"500.0\" y=\"70.0\" text-anchor=\"middle\" alignment-baseline=\"central\">3</text><circle cx=\"500.0\" cy=\"70.0\" r=\"30\" fill=\"none\" stroke-width=\"2\" stroke=\"black\"></circle><text x=\"100.0\" y=\"70.0\" text-anchor=\"middle\" alignment-baseline=\"central\">4</text></svg>"
      ],
      "text/plain": [
       "<src.vis.Element at 0x7f1a18331c88>"
      ]
     },
     "metadata": {},
     "output_type": "display_data"
    }
   ],
   "source": [
    "Row.create(\n",
    "    width=600,\n",
    "    node_radius=30,\n",
    "    node_margin=40,\n",
    "    flow='center'\n",
    ")"
   ]
  },
  {
   "cell_type": "code",
   "execution_count": 6,
   "metadata": {},
   "outputs": [
    {
     "data": {
      "text/html": [
       "<svg width=\"600\" heigth=\"120\" style=\"border: 1px solid black; height: 120; width: 600;\"><circle cx=\"60.0\" cy=\"60.0\" r=\"20\" fill=\"none\" stroke-width=\"2\" stroke=\"black\"></circle><text x=\"300.0\" y=\"60.0\" text-anchor=\"middle\" alignment-baseline=\"central\">0</text><circle cx=\"140.0\" cy=\"60.0\" r=\"20\" fill=\"none\" stroke-width=\"2\" stroke=\"black\"></circle><text x=\"220.0\" y=\"60.0\" text-anchor=\"middle\" alignment-baseline=\"central\">1</text><circle cx=\"220.0\" cy=\"60.0\" r=\"20\" fill=\"none\" stroke-width=\"2\" stroke=\"black\"></circle><text x=\"380.0\" y=\"60.0\" text-anchor=\"middle\" alignment-baseline=\"central\">2</text><circle cx=\"300.0\" cy=\"60.0\" r=\"20\" fill=\"none\" stroke-width=\"2\" stroke=\"black\"></circle><text x=\"140.0\" y=\"60.0\" text-anchor=\"middle\" alignment-baseline=\"central\">3</text><circle cx=\"380.0\" cy=\"60.0\" r=\"20\" fill=\"none\" stroke-width=\"2\" stroke=\"black\"></circle><text x=\"460.0\" y=\"60.0\" text-anchor=\"middle\" alignment-baseline=\"central\">4</text><circle cx=\"460.0\" cy=\"60.0\" r=\"20\" fill=\"none\" stroke-width=\"2\" stroke=\"black\"></circle><text x=\"60.0\" y=\"60.0\" text-anchor=\"middle\" alignment-baseline=\"central\">5</text><circle cx=\"540.0\" cy=\"60.0\" r=\"20\" fill=\"none\" stroke-width=\"2\" stroke=\"black\"></circle><text x=\"540.0\" y=\"60.0\" text-anchor=\"middle\" alignment-baseline=\"central\">6</text></svg>"
      ],
      "text/plain": [
       "<src.vis.Element at 0x7f1a18316e10>"
      ]
     },
     "metadata": {},
     "output_type": "display_data"
    }
   ],
   "source": [
    "Row.create(\n",
    "    width=600,\n",
    "    node_radius=20,\n",
    "    node_margin=40,\n",
    "    flow='center_reversed'\n",
    ")"
   ]
  },
  {
   "cell_type": "code",
   "execution_count": 7,
   "metadata": {},
   "outputs": [
    {
     "data": {
      "text/html": [
       "<svg width=\"600\" heigth=\"140\" style=\"border: 1px solid black; height: 140; width: 600;\"><circle cx=\"100.0\" cy=\"70.0\" r=\"30\" fill=\"none\" stroke-width=\"2\" stroke=\"black\"></circle><text x=\"300.0\" y=\"70.0\" text-anchor=\"middle\" alignment-baseline=\"central\">0</text><circle cx=\"200.0\" cy=\"70.0\" r=\"30\" fill=\"none\" stroke-width=\"2\" stroke=\"black\"></circle><text x=\"200.0\" y=\"70.0\" text-anchor=\"middle\" alignment-baseline=\"central\">1</text><circle cx=\"300.0\" cy=\"70.0\" r=\"30\" fill=\"none\" stroke-width=\"2\" stroke=\"black\"></circle><text x=\"400.0\" y=\"70.0\" text-anchor=\"middle\" alignment-baseline=\"central\">2</text><circle cx=\"400.0\" cy=\"70.0\" r=\"30\" fill=\"none\" stroke-width=\"2\" stroke=\"black\"></circle><text x=\"100.0\" y=\"70.0\" text-anchor=\"middle\" alignment-baseline=\"central\">3</text><circle cx=\"500.0\" cy=\"70.0\" r=\"30\" fill=\"none\" stroke-width=\"2\" stroke=\"black\"></circle><text x=\"500.0\" y=\"70.0\" text-anchor=\"middle\" alignment-baseline=\"central\">4</text></svg>"
      ],
      "text/plain": [
       "<src.vis.Element at 0x7f1a18344400>"
      ]
     },
     "metadata": {},
     "output_type": "display_data"
    }
   ],
   "source": [
    "Row.create(\n",
    "    width=600,\n",
    "    node_radius=30,\n",
    "    node_margin=40,\n",
    "    flow='center_reversed'\n",
    ")"
   ]
  },
  {
   "cell_type": "code",
   "execution_count": null,
   "metadata": {},
   "outputs": [],
   "source": []
  },
  {
   "cell_type": "code",
   "execution_count": null,
   "metadata": {},
   "outputs": [],
   "source": []
  }
 ],
 "metadata": {
  "kernelspec": {
   "display_name": "Python 3",
   "language": "python",
   "name": "python3"
  },
  "language_info": {
   "codemirror_mode": {
    "name": "ipython",
    "version": 3
   },
   "file_extension": ".py",
   "mimetype": "text/x-python",
   "name": "python",
   "nbconvert_exporter": "python",
   "pygments_lexer": "ipython3",
   "version": "3.7.3"
  }
 },
 "nbformat": 4,
 "nbformat_minor": 2
}
