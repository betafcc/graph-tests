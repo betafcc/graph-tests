{
 "cells": [
  {
   "cell_type": "code",
   "execution_count": 2,
   "metadata": {},
   "outputs": [],
   "source": [
    "from functools import reduce\n",
    "from types import SimpleNamespace as ns\n",
    "\n",
    "import sympy\n",
    "sympy.init_printing()\n",
    "\n",
    "def block(f):\n",
    "    return f()"
   ]
  },
  {
   "cell_type": "code",
   "execution_count": 3,
   "metadata": {},
   "outputs": [],
   "source": [
    "def subs(e, **kwargs):\n",
    "    _symbols = symbols(e)\n",
    "\n",
    "    return e.subs({ _symbols[k]: v for k, v in kwargs.items() })\n",
    "\n",
    "def symbols(e):\n",
    "    return { s.name: s for s in e.free_symbols }\n",
    "\n",
    "\n",
    "@block\n",
    "def linscale():\n",
    "    y, y_i, y_f, x, x_i, x_f = map(\n",
    "        lambda name: sympy.Symbol(name, real=True),\n",
    "        'y y_i y_f x x_i x_f'.split()\n",
    "    )\n",
    "    \n",
    "    return sympy.Eq(y, y_i + ((y_f - y_i) / (x_f - x_i)) * x)"
   ]
  },
  {
   "cell_type": "code",
   "execution_count": 4,
   "metadata": {},
   "outputs": [],
   "source": [
    "grid, row = ns(), ns()\n",
    "\n",
    "grid.width = sympy.Symbol('grid.width', positive=True, real=True)\n",
    "grid.node_count = sympy.Symbol('grid.node_count', positive=True, integer=True)\n",
    "grid.row_count = sympy.Symbol('grid.row_count', positive=True, integer=True)\n",
    "grid.margin_ratio = sympy.Symbol('grid.margin_ratio', positive=True, real=True)\n",
    "grid.start_radius = sympy.Symbol('grid.start_radius', positive=True, real=True)\n",
    "grid.end_radius = sympy.Symbol('grid.end_radius', positive=True, real=True)\n",
    "\n",
    "row.index = sympy.Symbol('row.index', negative=False, integer=True)\n",
    "row.extra_margin = sympy.Symbol('row.extra_margin', negative=False, real=True)\n",
    "row.column_count = sympy.Symbol('row.column_count', positive=True, integer=True)\n",
    "row.margin = sympy.Symbol('row.margin', negative=False, real=True)\n",
    "row.radius = sympy.Symbol('row.radius', positive=True, real=True)\n",
    "row.width = sympy.Symbol('row.width', positive=True, real=True)\n",
    "\n",
    "# row.equation = (\n",
    "#     row.extraMargin +\n",
    "#     row.margin * (row.length + 1) +\n",
    "#     2 * row.radius * row.length -\n",
    "#     grid.width\n",
    "# )"
   ]
  },
  {
   "cell_type": "code",
   "execution_count": 5,
   "metadata": {},
   "outputs": [],
   "source": [
    "relations = ns()\n",
    "\n",
    "relations.a = row.index < grid.row_count\n",
    "relations.b = subs(linscale,\n",
    "    y_i=grid.start_radius, y_f=grid.end_radius,\n",
    "    x_i=0,                 x_f=grid.row_count - 1,\n",
    "\n",
    "    y=row.radius,          x=row.index\n",
    ")\n",
    "\n",
    "relations.grid_width = sympy.Eq(grid.width,\n",
    "    row.extra_margin +\n",
    "    row.margin * (row.column_count + 1) +\n",
    "    2 * row.radius * row.column_count\n",
    ")"
   ]
  },
  {
   "cell_type": "code",
   "execution_count": 6,
   "metadata": {},
   "outputs": [],
   "source": [
    "relations.row_index = row.index < grid.row_count\n",
    "\n",
    "relations.radius = subs(linscale,\n",
    "    y_i=grid.start_radius, y_f=grid.end_radius,\n",
    "    x_i=0,                 x_f=grid.row_count - 1,\n",
    "\n",
    "    y=row.radius,          x=row.index\n",
    ")\n",
    "\n",
    "relations.node_count = (\n",
    "    grid.node_count <=\n",
    "\n",
    "    sympy.Sum(\n",
    "        sympy.solveset(\n",
    "            relations.grid_width,\n",
    "            row.column_count,\n",
    "            domain=sympy.Reals\n",
    "        )\n",
    "        .subs({row.radius: relations.radius.rhs})\n",
    "        .args[0],\n",
    "\n",
    "        (row.index, 0, grid.row_count - 1)\n",
    "    )\n",
    ")"
   ]
  },
  {
   "cell_type": "code",
   "execution_count": 7,
   "metadata": {},
   "outputs": [
    {
     "data": {
      "text/latex": [
       "$$grid.node_{count} \\leq \\sum_{row.index=0}^{grid.row_{count} - 1} \\frac{grid.width - row.extra_{margin} - row.margin}{2 grid.start_{radius} + \\frac{2 row.index \\left(grid.end_{radius} - grid.start_{radius}\\right)}{grid.row_{count} - 1} + row.margin}$$"
      ],
      "text/plain": [
       "                  grid.row_count - 1                                          \n",
       "                        _____                                                 \n",
       "                        ╲                                                     \n",
       "                         ╲                                grid.width - row.ext\n",
       "                          ╲          ─────────────────────────────────────────\n",
       "                           ╲                               2⋅row.index⋅(grid.e\n",
       "grid.node_count ≤          ╱         2⋅grid.start_radius + ───────────────────\n",
       "                          ╱                                                gri\n",
       "                         ╱                                                    \n",
       "                        ╱                                                     \n",
       "                        ‾‾‾‾‾                                                 \n",
       "                    row.index = 0                                             \n",
       "\n",
       "                                           \n",
       "                                           \n",
       "                                           \n",
       "ra_margin - row.margin                     \n",
       "───────────────────────────────────────────\n",
       "nd_radius - grid.start_radius)             \n",
       "────────────────────────────── + row.margin\n",
       "d.row_count - 1                            \n",
       "                                           \n",
       "                                           \n",
       "                                           \n",
       "                                           "
      ]
     },
     "execution_count": 7,
     "metadata": {},
     "output_type": "execute_result"
    }
   ],
   "source": [
    "relations.node_count"
   ]
  },
  {
   "cell_type": "code",
   "execution_count": null,
   "metadata": {},
   "outputs": [],
   "source": []
  },
  {
   "cell_type": "code",
   "execution_count": 8,
   "metadata": {},
   "outputs": [
    {
     "data": {
      "text/latex": [
       "$$grid.node_{count} \\leq \\sum_{row.index=0}^{grid.row_{count} - 1} \\operatorname{row_{radius}}{\\left (row.index \\right )}$$"
      ],
      "text/plain": [
       "                  grid.row_count - 1                      \n",
       "                         ___                              \n",
       "                         ╲                                \n",
       "                          ╲          row_radius(row.index)\n",
       "grid.node_count ≤         ╱                               \n",
       "                         ╱                                \n",
       "                         ‾‾‾                              \n",
       "                    row.index = 0                         "
      ]
     },
     "execution_count": 8,
     "metadata": {},
     "output_type": "execute_result"
    }
   ],
   "source": [
    "row_radius = sympy.Function('row_radius', positive=True)\n",
    "\n",
    "eq = (\n",
    "    grid.node_count <=\n",
    "    sympy.Sum(row_radius(row.index), (row.index, 0, grid.row_count - 1))\n",
    ")\n",
    "\n",
    "eq"
   ]
  },
  {
   "cell_type": "code",
   "execution_count": 16,
   "metadata": {},
   "outputs": [
    {
     "data": {
      "text/latex": [
       "$$grid.width = 2 row.column_{count} row.radius + row.extra_{margin} + row.margin \\left(row.column_{count} + 1\\right)$$"
      ],
      "text/plain": [
       "grid.width = 2⋅row.column_count⋅row.radius + row.extra_margin + row.margin⋅(ro\n",
       "w.column_count + 1)"
      ]
     },
     "execution_count": 16,
     "metadata": {},
     "output_type": "execute_result"
    }
   ],
   "source": [
    "relations.grid_width"
   ]
  },
  {
   "cell_type": "code",
   "execution_count": 1,
   "metadata": {},
   "outputs": [],
   "source": [
    "def a(n):\n",
    "    return 1 + int(n / (5 ** 0.5))"
   ]
  },
  {
   "cell_type": "code",
   "execution_count": 4,
   "metadata": {},
   "outputs": [
    {
     "data": {
      "text/plain": [
       "[1, 1, 1, 2, 2, 3, 3, 4, 4, 5, 5, 5, 6, 6, 7, 7, 8, 8, 9, 9]"
      ]
     },
     "execution_count": 4,
     "metadata": {},
     "output_type": "execute_result"
    }
   ],
   "source": [
    "[a(i) for i in range(20)]"
   ]
  },
  {
   "cell_type": "markdown",
   "metadata": {},
   "source": [
    "```\n",
    "0 -> 0\n",
    "1 -> 1\n",
    "2 -> -1\n",
    "3 -> 2\n",
    "4 -> -2\n",
    "5 -> 3\n",
    "6 -> -3\n",
    "```"
   ]
  },
  {
   "cell_type": "code",
   "execution_count": 3,
   "metadata": {},
   "outputs": [
    {
     "name": "stdout",
     "output_type": "stream",
     "text": [
      "0 -> 0\n",
      "1 -> 1\n",
      "2 -> -1\n",
      "3 -> 2\n",
      "4 -> -2\n",
      "5 -> 3\n",
      "6 -> -3\n"
     ]
    }
   ],
   "source": [
    "from math import ceil\n",
    "\n",
    "def f(n):\n",
    "    return ceil(n / 2) * (-1) ** (n + 1)\n",
    "\n",
    "for i in range(0, 7):\n",
    "    print(f'{i} -> {f(i)}')"
   ]
  },
  {
   "cell_type": "code",
   "execution_count": 20,
   "metadata": {},
   "outputs": [],
   "source": [
    "def plus_minus(n):\n",
    "    return (-1) ** n\n",
    "\n",
    "def zero_two(n):\n",
    "    return 1 - plus_minus(n)\n",
    "\n",
    "def slow_count(n):\n",
    "    return n / 2 + zero_two(n) / 4"
   ]
  },
  {
   "cell_type": "code",
   "execution_count": 21,
   "metadata": {},
   "outputs": [
    {
     "name": "stdout",
     "output_type": "stream",
     "text": [
      "0 -> 0.0\n",
      "1 -> -1.0\n",
      "2 -> 1.0\n",
      "3 -> -2.0\n",
      "4 -> 2.0\n",
      "5 -> -3.0\n",
      "6 -> 3.0\n",
      "7 -> -4.0\n",
      "8 -> 4.0\n",
      "9 -> -5.0\n",
      "10 -> 5.0\n",
      "11 -> -6.0\n",
      "12 -> 6.0\n",
      "13 -> -7.0\n",
      "14 -> 7.0\n",
      "15 -> -8.0\n",
      "16 -> 8.0\n",
      "17 -> -9.0\n",
      "18 -> 9.0\n",
      "19 -> -10.0\n"
     ]
    }
   ],
   "source": [
    "for n in range(20):\n",
    "    print(f'{n} ->', slow_count(n) * plus_minus(n))"
   ]
  },
  {
   "cell_type": "code",
   "execution_count": null,
   "metadata": {},
   "outputs": [],
   "source": [
    "0 -> 0 - 0\n",
    "1 -> 1 - 1\n",
    "2 -> 2 - 1\n",
    "3 -> 3 - 2\n",
    "4 -> 4 - 2\n",
    "5 -> 5 - 3"
   ]
  },
  {
   "cell_type": "code",
   "execution_count": null,
   "metadata": {},
   "outputs": [],
   "source": []
  },
  {
   "cell_type": "code",
   "execution_count": null,
   "metadata": {},
   "outputs": [],
   "source": []
  },
  {
   "cell_type": "code",
   "execution_count": null,
   "metadata": {},
   "outputs": [],
   "source": []
  },
  {
   "cell_type": "code",
   "execution_count": null,
   "metadata": {},
   "outputs": [],
   "source": []
  },
  {
   "cell_type": "code",
   "execution_count": null,
   "metadata": {},
   "outputs": [],
   "source": []
  },
  {
   "cell_type": "code",
   "execution_count": null,
   "metadata": {},
   "outputs": [],
   "source": []
  },
  {
   "cell_type": "code",
   "execution_count": null,
   "metadata": {},
   "outputs": [],
   "source": []
  },
  {
   "cell_type": "code",
   "execution_count": null,
   "metadata": {},
   "outputs": [],
   "source": []
  },
  {
   "cell_type": "code",
   "execution_count": null,
   "metadata": {},
   "outputs": [],
   "source": []
  }
 ],
 "metadata": {
  "kernelspec": {
   "display_name": "Python 3",
   "language": "python",
   "name": "python3"
  },
  "language_info": {
   "codemirror_mode": {
    "name": "ipython",
    "version": 3
   },
   "file_extension": ".py",
   "mimetype": "text/x-python",
   "name": "python",
   "nbconvert_exporter": "python",
   "pygments_lexer": "ipython3",
   "version": "3.7.1"
  }
 },
 "nbformat": 4,
 "nbformat_minor": 2
}
