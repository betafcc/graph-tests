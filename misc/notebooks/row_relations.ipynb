{
 "cells": [
  {
   "cell_type": "code",
   "execution_count": 1,
   "metadata": {},
   "outputs": [],
   "source": [
    "import sympy\n",
    "sympy.init_printing()"
   ]
  },
  {
   "cell_type": "code",
   "execution_count": 2,
   "metadata": {},
   "outputs": [],
   "source": [
    "from itertools import chain, count\n",
    "from functools import reduce\n",
    "\n",
    "from src import row"
   ]
  },
  {
   "cell_type": "code",
   "execution_count": 3,
   "metadata": {},
   "outputs": [],
   "source": [
    "def mathsum(f, args):\n",
    "    return sum(map(f, range(*args)))\n",
    "\n",
    "\n",
    "def grid_length(width, margin, radius_scale, total_lines):\n",
    "    radius = radius_scale(0, total_lines)\n",
    "\n",
    "    return sum(\n",
    "        row.length(width, margin, radius(line_number))\n",
    "        for line_number in range(total_lines)\n",
    "    )"
   ]
  },
  {
   "cell_type": "code",
   "execution_count": 4,
   "metadata": {},
   "outputs": [],
   "source": [
    "width = sympy.Symbol('width', positive=True, real=True)\n",
    "margin = sympy.Symbol('margin', positive=True, real=True)\n",
    "\n",
    "maxRadius = sympy.Symbol('maxRadius', positive=True, real=True)\n",
    "minRadius = sympy.Symbol('minRadius', positive=True, real=True)\n",
    "\n",
    "i = sympy.Symbol('i', negative=False, integer=True)\n",
    "t = sympy.Symbol('t', positive=False, integer=True)\n",
    "\n",
    "radius = sympy.Function('radius', positive=True, real=True)\n",
    "\n",
    "rel = (\n",
    "    sympy.Symbol('nodeCount', positive=True, integer=True) <=\n",
    "    sympy.Sum(\n",
    "        row.length(width, margin, radius(maxRadius, minRadius, 0, t, i)),\n",
    "        (i, 0, t)\n",
    "    )\n",
    ")"
   ]
  },
  {
   "cell_type": "code",
   "execution_count": 5,
   "metadata": {},
   "outputs": [
    {
     "data": {
      "text/latex": [
       "$$nodeCount \\leq \\sum_{i=0}^{t} \\lfloor{\\frac{- margin + width}{margin + 2 \\operatorname{radius}{\\left (maxRadius,minRadius,0,t,i \\right )}}}\\rfloor$$"
      ],
      "text/plain": [
       "              t                                                     \n",
       "             ____                                                   \n",
       "             ╲                                                      \n",
       "              ╲   ⎢                -margin + width                 ⎥\n",
       "               ╲  ⎢────────────────────────────────────────────────⎥\n",
       "nodeCount ≤    ╱  ⎣margin + 2⋅radius(maxRadius, minRadius, 0, t, i)⎦\n",
       "              ╱                                                     \n",
       "             ╱                                                      \n",
       "             ‾‾‾‾                                                   \n",
       "            i = 0                                                   "
      ]
     },
     "execution_count": 5,
     "metadata": {},
     "output_type": "execute_result"
    }
   ],
   "source": [
    "rel"
   ]
  },
  {
   "cell_type": "code",
   "execution_count": 6,
   "metadata": {},
   "outputs": [
    {
     "data": {
      "text/latex": [
       "$$\\left\\{nodeCount \\leq \\sum_{i=0}^{t} \\lfloor{\\frac{- margin + width}{margin + 2 \\operatorname{radius}{\\left (maxRadius,minRadius,0,t,i \\right )}}}\\rfloor\\; |\\; t \\in \\mathbb{N}\\right\\}$$"
      ],
      "text/plain": [
       "⎧              t                                                             ⎫\n",
       "⎪             ____                                                           ⎪\n",
       "⎪             ╲                                                              ⎪\n",
       "⎪              ╲   ⎢                -margin + width                 ⎥        ⎪\n",
       "⎪               ╲  ⎢────────────────────────────────────────────────⎥        ⎪\n",
       "⎨nodeCount ≤    ╱  ⎣margin + 2⋅radius(maxRadius, minRadius, 0, t, i)⎦ | t ∊ ℕ⎬\n",
       "⎪              ╱                                                             ⎪\n",
       "⎪             ╱                                                              ⎪\n",
       "⎪             ‾‾‾‾                                                           ⎪\n",
       "⎪            i = 0                                                           ⎪\n",
       "⎩                                                                            ⎭"
      ]
     },
     "execution_count": 6,
     "metadata": {},
     "output_type": "execute_result"
    }
   ],
   "source": [
    "sympy.ImageSet(sympy.Lambda(t, rel), sympy.Naturals)"
   ]
  },
  {
   "cell_type": "code",
   "execution_count": 7,
   "metadata": {},
   "outputs": [
    {
     "data": {
      "text/latex": [
       "$$\\frac{i \\left(- maxRadius + minRadius\\right)}{t - 1} + maxRadius$$"
      ],
      "text/plain": [
       "i⋅(-maxRadius + minRadius)            \n",
       "────────────────────────── + maxRadius\n",
       "          t - 1                       "
      ]
     },
     "execution_count": 7,
     "metadata": {},
     "output_type": "execute_result"
    }
   ],
   "source": [
    "linscale = sympy.S('y_i + ((y_f - y_i) / (x_f - x_i)) * x - y')\n",
    "\n",
    "r = linscale.subs(dict(\n",
    "    y_i=maxRadius, y_f=minRadius,\n",
    "    x_i=0, x_f=t - 1,\n",
    "    \n",
    "    y=0, x=i\n",
    "))\n",
    "\n",
    "r"
   ]
  },
  {
   "cell_type": "code",
   "execution_count": 8,
   "metadata": {},
   "outputs": [
    {
     "data": {
      "text/latex": [
       "$$\\left\\{t \\mid t \\in \\mathbb{N} \\wedge - nodeCount + \\sum_{i=0}^{t} \\lfloor{\\frac{- margin + width}{\\frac{2 i \\left(- maxRadius + minRadius\\right)}{t - 1} + margin + 2 maxRadius}}\\rfloor = 0 \\right\\}$$"
      ],
      "text/plain": [
       "⎧                           t                                                 \n",
       "⎪                         _____                                               \n",
       "⎪                         ╲                                                   \n",
       "⎪                          ╲    ⎢                  -margin + width            \n",
       "⎪                           ╲   ⎢─────────────────────────────────────────────\n",
       "⎪                            ╲  ⎢2⋅i⋅(-maxRadius + minRadius)                 \n",
       "⎨t | t ∊ ℕ ∧ -nodeCount +    ╱  ⎢──────────────────────────── + margin + 2⋅max\n",
       "⎪                           ╱   ⎣           t - 1                             \n",
       "⎪                          ╱                                                  \n",
       "⎪                         ╱                                                   \n",
       "⎪                         ‾‾‾‾‾                                               \n",
       "⎪                         i = 0                                               \n",
       "⎩                                                                             \n",
       "\n",
       "           ⎫\n",
       "           ⎪\n",
       "           ⎪\n",
       "      ⎥    ⎪\n",
       "──────⎥    ⎪\n",
       "      ⎥    ⎪\n",
       "Radius⎥ = 0⎬\n",
       "      ⎦    ⎪\n",
       "           ⎪\n",
       "           ⎪\n",
       "           ⎪\n",
       "           ⎪\n",
       "           ⎭"
      ]
     },
     "execution_count": 8,
     "metadata": {},
     "output_type": "execute_result"
    }
   ],
   "source": [
    "sympy.solveset(\n",
    "    sympy.Eq(\n",
    "        sympy.Symbol('nodeCount', positive=True, integer=True),\n",
    "        sympy.Sum(\n",
    "            row.length(width, margin, radius(maxRadius, minRadius, 0, t, i)),\n",
    "            (i, 0, t)\n",
    "        )\n",
    "    ).subs(radius(maxRadius, minRadius, 0, t, i), r).doit(),\n",
    "    t,\n",
    "    sympy.Naturals\n",
    ")"
   ]
  },
  {
   "cell_type": "code",
   "execution_count": null,
   "metadata": {},
   "outputs": [],
   "source": []
  },
  {
   "cell_type": "code",
   "execution_count": null,
   "metadata": {},
   "outputs": [],
   "source": []
  },
  {
   "cell_type": "code",
   "execution_count": null,
   "metadata": {},
   "outputs": [],
   "source": []
  },
  {
   "cell_type": "code",
   "execution_count": null,
   "metadata": {},
   "outputs": [],
   "source": []
  },
  {
   "cell_type": "code",
   "execution_count": null,
   "metadata": {},
   "outputs": [],
   "source": []
  },
  {
   "cell_type": "code",
   "execution_count": null,
   "metadata": {},
   "outputs": [],
   "source": []
  },
  {
   "cell_type": "code",
   "execution_count": null,
   "metadata": {},
   "outputs": [],
   "source": []
  },
  {
   "cell_type": "code",
   "execution_count": null,
   "metadata": {},
   "outputs": [],
   "source": []
  },
  {
   "cell_type": "code",
   "execution_count": null,
   "metadata": {},
   "outputs": [],
   "source": []
  },
  {
   "cell_type": "code",
   "execution_count": null,
   "metadata": {},
   "outputs": [],
   "source": []
  },
  {
   "cell_type": "code",
   "execution_count": null,
   "metadata": {},
   "outputs": [],
   "source": []
  },
  {
   "cell_type": "code",
   "execution_count": null,
   "metadata": {},
   "outputs": [],
   "source": []
  },
  {
   "cell_type": "code",
   "execution_count": null,
   "metadata": {},
   "outputs": [],
   "source": []
  },
  {
   "cell_type": "code",
   "execution_count": null,
   "metadata": {},
   "outputs": [],
   "source": []
  },
  {
   "cell_type": "code",
   "execution_count": null,
   "metadata": {},
   "outputs": [],
   "source": []
  },
  {
   "cell_type": "code",
   "execution_count": null,
   "metadata": {},
   "outputs": [],
   "source": []
  },
  {
   "cell_type": "code",
   "execution_count": null,
   "metadata": {},
   "outputs": [],
   "source": []
  },
  {
   "cell_type": "code",
   "execution_count": null,
   "metadata": {},
   "outputs": [],
   "source": []
  },
  {
   "cell_type": "code",
   "execution_count": null,
   "metadata": {},
   "outputs": [],
   "source": []
  }
 ],
 "metadata": {
  "kernelspec": {
   "display_name": "Python 3",
   "language": "python",
   "name": "python3"
  },
  "language_info": {
   "codemirror_mode": {
    "name": "ipython",
    "version": 3
   },
   "file_extension": ".py",
   "mimetype": "text/x-python",
   "name": "python",
   "nbconvert_exporter": "python",
   "pygments_lexer": "ipython3",
   "version": "3.7.1"
  }
 },
 "nbformat": 4,
 "nbformat_minor": 2
}
