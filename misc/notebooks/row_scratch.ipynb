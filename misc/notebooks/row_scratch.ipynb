{
 "cells": [
  {
   "cell_type": "code",
   "execution_count": 5,
   "metadata": {},
   "outputs": [],
   "source": [
    "from types import SimpleNamespace as ns\n",
    "\n",
    "import sympy\n",
    "from sympy import S\n",
    "sympy.init_printing()"
   ]
  },
  {
   "cell_type": "code",
   "execution_count": 6,
   "metadata": {},
   "outputs": [],
   "source": [
    "class s:\n",
    "    def __getattr__(self, attr):\n",
    "        return sympy.symbol.Symbol(attr)\n",
    "\n",
    "    def __getitem__(self, item):\n",
    "        return sympy.symbol.Symbol(item)\n",
    "s = s()"
   ]
  },
  {
   "cell_type": "code",
   "execution_count": 7,
   "metadata": {},
   "outputs": [],
   "source": [
    "util, grid, row = ns(), ns(), ns()\n",
    "\n",
    "util.linscale = sympy.S('yi + ((yf - yi) / (xf - xi)) * x - y')\n",
    "\n",
    "grid.width = sympy.Symbol('grid.width', positive=True, real=True)\n",
    "grid.rowCount = sympy.Symbol('grid.rowCount', positive=True, integer=True)\n",
    "grid.rowNumber = sympy.Symbol('grid.rowNumber', negative=False, integer=True)\n",
    "\n",
    "grid.startRadius = sympy.Symbol('grid.startRadius', positive=True, real=True)\n",
    "grid.endRadius = sympy.Symbol('grid.endRadius', positive=True, real=True)\n",
    "\n",
    "grid.radius = util.linscale.subs({\n",
    "    'yi': grid.startRadius,\n",
    "    'yf': grid.endRadius,\n",
    "    'xi': 0,\n",
    "    'xf': grid.rowCount - 1,\n",
    "\n",
    "    'y': 0,\n",
    "    'x': grid.rowNumber\n",
    "})\n",
    "\n",
    "\n",
    "row.extraMargin = sympy.Symbol('row.extraMargin', negative=False, real=True)\n",
    "row.length = sympy.Symbol('row.length', positive=True, integer=True)\n",
    "row.margin = sympy.Symbol('row.margin', negative=False, real=True)\n",
    "row.radius = sympy.Symbol('row.radius', positive=True, real=True)\n",
    "row.width = sympy.Symbol('row.width', positive=True, real=True)\n",
    "\n",
    "row.equation = (\n",
    "    row.extraMargin +\n",
    "    row.margin * (row.length + 1) +\n",
    "    2 * row.radius * row.length -\n",
    "    grid.width\n",
    ")"
   ]
  },
  {
   "cell_type": "code",
   "execution_count": 8,
   "metadata": {},
   "outputs": [
    {
     "data": {
      "image/png": "[encoded data removed]",
      "text/latex": [
       "$$- grid.width + row.extraMargin + 2 row.length row.radius + row.margin \\left(row.length + 1\\right)$$"
      ],
      "text/plain": [
       "-grid.width + row.extraMargin + 2⋅row.length⋅row.radius + row.margin⋅(row.leng\n",
       "th + 1)"
      ]
     },
     "execution_count": 8,
     "metadata": {},
     "output_type": "execute_result"
    }
   ],
   "source": [
    "row.equation"
   ]
  },
  {
   "cell_type": "code",
   "execution_count": null,
   "metadata": {},
   "outputs": [],
   "source": []
  },
  {
   "cell_type": "code",
   "execution_count": null,
   "metadata": {},
   "outputs": [],
   "source": []
  },
  {
   "cell_type": "code",
   "execution_count": null,
   "metadata": {},
   "outputs": [],
   "source": []
  },
  {
   "cell_type": "code",
   "execution_count": null,
   "metadata": {},
   "outputs": [],
   "source": []
  },
  {
   "cell_type": "code",
   "execution_count": null,
   "metadata": {},
   "outputs": [],
   "source": []
  },
  {
   "cell_type": "code",
   "execution_count": null,
   "metadata": {},
   "outputs": [],
   "source": []
  },
  {
   "cell_type": "code",
   "execution_count": null,
   "metadata": {},
   "outputs": [],
   "source": []
  },
  {
   "cell_type": "code",
   "execution_count": null,
   "metadata": {},
   "outputs": [],
   "source": []
  },
  {
   "cell_type": "code",
   "execution_count": null,
   "metadata": {},
   "outputs": [],
   "source": []
  },
  {
   "cell_type": "code",
   "execution_count": null,
   "metadata": {},
   "outputs": [],
   "source": []
  },
  {
   "cell_type": "code",
   "execution_count": null,
   "metadata": {},
   "outputs": [],
   "source": []
  },
  {
   "cell_type": "code",
   "execution_count": null,
   "metadata": {},
   "outputs": [],
   "source": []
  },
  {
   "cell_type": "code",
   "execution_count": null,
   "metadata": {},
   "outputs": [],
   "source": []
  },
  {
   "cell_type": "code",
   "execution_count": null,
   "metadata": {},
   "outputs": [],
   "source": []
  },
  {
   "cell_type": "code",
   "execution_count": null,
   "metadata": {},
   "outputs": [],
   "source": []
  },
  {
   "cell_type": "code",
   "execution_count": null,
   "metadata": {},
   "outputs": [],
   "source": []
  },
  {
   "cell_type": "code",
   "execution_count": null,
   "metadata": {},
   "outputs": [],
   "source": []
  },
  {
   "cell_type": "code",
   "execution_count": null,
   "metadata": {},
   "outputs": [],
   "source": []
  },
  {
   "cell_type": "code",
   "execution_count": null,
   "metadata": {},
   "outputs": [],
   "source": []
  },
  {
   "cell_type": "code",
   "execution_count": null,
   "metadata": {},
   "outputs": [],
   "source": []
  },
  {
   "cell_type": "code",
   "execution_count": null,
   "metadata": {},
   "outputs": [],
   "source": []
  },
  {
   "cell_type": "code",
   "execution_count": null,
   "metadata": {},
   "outputs": [],
   "source": []
  },
  {
   "cell_type": "code",
   "execution_count": null,
   "metadata": {},
   "outputs": [],
   "source": []
  }
 ],
 "metadata": {
  "kernelspec": {
   "display_name": "Python 3",
   "language": "python",
   "name": "python3"
  },
  "language_info": {
   "codemirror_mode": {
    "name": "ipython",
    "version": 3
   },
   "file_extension": ".py",
   "mimetype": "text/x-python",
   "name": "python",
   "nbconvert_exporter": "python",
   "pygments_lexer": "ipython3",
   "version": "3.7.1"
  }
 },
 "nbformat": 4,
 "nbformat_minor": 2
}
